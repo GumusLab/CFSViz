{
 "cells": [
  {
   "cell_type": "code",
   "execution_count": 1,
   "metadata": {},
   "outputs": [],
   "source": [
    "import csv\n",
    "import numpy as np\n",
    "import pandas as pd\n",
    "import json"
   ]
  },
  {
   "cell_type": "code",
   "execution_count": 62,
   "metadata": {},
   "outputs": [],
   "source": [
    "KDs = pd.read_csv(\"Data/CFSKDsForVisualization.csv\")\n",
    "Modules = pd.read_csv(\"Data/CFSModulesForVisualization.csv\")\n",
    "Network = pd.read_csv(\"Data/CFSNetworkForVisualization_withoutNaN.csv\")"
   ]
  },
  {
   "cell_type": "markdown",
   "metadata": {},
   "source": [
    "### Modules of interest\n",
    "\n",
    "1) NKM4\n",
    "\n",
    "2) BcellM7\n",
    "\n",
    "3) MonoM6\n",
    "\n",
    "4) NKM13\n",
    "\n",
    "5) NKM9"
   ]
  },
  {
   "cell_type": "code",
   "execution_count": 63,
   "metadata": {},
   "outputs": [],
   "source": [
    "NKM4 = []\n",
    "BcellM7 = []\n",
    "MonoM6 = []\n",
    "NKM13 = []\n",
    "NKM9 = []\n",
    "\n",
    "for i in range(len(Modules)):\n",
    "    if Modules[\"Module\"][i] == \"NKM4\":\n",
    "        NKM4.append(Modules[\"GeneName\"][i])\n",
    "    if Modules[\"Module\"][i] == \"BcellM7\":\n",
    "        BcellM7.append(Modules[\"GeneName\"][i])\n",
    "    if Modules[\"Module\"][i] == \"MonoM6\":\n",
    "        MonoM6.append(Modules[\"GeneName\"][i])\n",
    "    if Modules[\"Module\"][i] == \"NKM13\":\n",
    "        NKM13.append(Modules[\"GeneName\"][i])\n",
    "    if Modules[\"Module\"][i] == \"NKM9\":\n",
    "        NKM9.append(Modules[\"GeneName\"][i])  "
   ]
  },
  {
   "cell_type": "code",
   "execution_count": 64,
   "metadata": {},
   "outputs": [
    {
     "name": "stdout",
     "output_type": "stream",
     "text": [
      "92 777 611 202 304\n"
     ]
    }
   ],
   "source": [
    "print(len(NKM4), len(BcellM7), len(MonoM6), len(NKM13), len(NKM9))"
   ]
  },
  {
   "cell_type": "markdown",
   "metadata": {},
   "source": [
    "## Nodes creation"
   ]
  },
  {
   "cell_type": "code",
   "execution_count": 65,
   "metadata": {},
   "outputs": [],
   "source": [
    "parents = np.unique(list(Network[\"ParentGeneName\"]))\n",
    "children = np.unique(list(Network[\"ChildGeneName\"]))"
   ]
  },
  {
   "cell_type": "code",
   "execution_count": 66,
   "metadata": {},
   "outputs": [],
   "source": [
    "parents_and_groups = []\n",
    "children_and_groups = []\n",
    "\n",
    "for i in parents:\n",
    "    if i in NKM4:\n",
    "        parents_and_groups.append([i, \"NKM4\"])\n",
    "    if i in BcellM7:\n",
    "        parents_and_groups.append([i, \"BcellM7\"])\n",
    "    if i in MonoM6:\n",
    "        parents_and_groups.append([i, \"MonoM6\"])\n",
    "    if i in NKM13:\n",
    "        parents_and_groups.append([i, \"NKM13\"])\n",
    "    if i in NKM9:\n",
    "        parents_and_groups.append([i, \"NKM9\"])\n",
    "    else:\n",
    "        parents_and_groups.append([i, \"none\"])\n",
    "        \n",
    "for i in children:\n",
    "    if i in NKM4:\n",
    "        children_and_groups.append([i, \"NKM4\"])\n",
    "    if i in BcellM7:\n",
    "        children_and_groups.append([i, \"BcellM7\"])\n",
    "    if i in MonoM6:\n",
    "        children_and_groups.append([i, \"MonoM6\"])\n",
    "    if i in NKM13:\n",
    "        children_and_groups.append([i, \"NKM13\"])\n",
    "    if i in NKM9:\n",
    "        children_and_groups.append([i, \"NKM9\"])\n",
    "    else:\n",
    "        children_and_groups.append([i, \"none\"])"
   ]
  },
  {
   "cell_type": "markdown",
   "metadata": {},
   "source": [
    "## Links creation"
   ]
  },
  {
   "cell_type": "code",
   "execution_count": 67,
   "metadata": {},
   "outputs": [],
   "source": [
    "links = []\n",
    "for parent, child in zip(Network[\"ParentGeneName\"], Network[\"ChildGeneName\"]):\n",
    "    links.append([parent, child])"
   ]
  },
  {
   "cell_type": "code",
   "execution_count": 68,
   "metadata": {},
   "outputs": [],
   "source": [
    "final = {\"nodes\": [], \"links\": []}\n",
    "\n",
    "for parent, group in parents_and_groups:\n",
    "    final[\"nodes\"] += [{\"id\": parent, \"group\": group}]\n",
    "\n",
    "for child, group in children_and_groups:\n",
    "    final[\"nodes\"] += [{\"id\": child, \"group\": group}]\n",
    "\n",
    "for parent, child in links:\n",
    "    final[\"links\"] += [{\"source\": parent, \"target\": child, \"value\": 1}]"
   ]
  },
  {
   "cell_type": "code",
   "execution_count": 69,
   "metadata": {},
   "outputs": [],
   "source": [
    "with open('complete_data.json', 'w') as fp:\n",
    "    json.dump(final, fp)"
   ]
  },
  {
   "cell_type": "markdown",
   "metadata": {},
   "source": [
    "________"
   ]
  },
  {
   "cell_type": "markdown",
   "metadata": {},
   "source": [
    "# Modules"
   ]
  },
  {
   "cell_type": "markdown",
   "metadata": {},
   "source": [
    "### NKM4\n"
   ]
  },
  {
   "cell_type": "code",
   "execution_count": 78,
   "metadata": {},
   "outputs": [],
   "source": [
    "## If parent in the group, then we render its child too. \n",
    "nkm4_parents = []\n",
    "nkm4_children = []\n",
    "nkm4_links = []\n",
    "\n",
    "for parent, child in links:\n",
    "    if parent in NKM4:\n",
    "        nkm4_parents.append(parent)\n",
    "        nkm4_children.append(child)\n",
    "        nkm4_links.append([parent, child])\n",
    "\n",
    "nkm4_parents = np.unique(nkm4_parents)\n",
    "nkm4_children = np.unique(nkm4_children)"
   ]
  },
  {
   "cell_type": "markdown",
   "metadata": {},
   "source": [
    "### BcellM7"
   ]
  },
  {
   "cell_type": "code",
   "execution_count": 83,
   "metadata": {},
   "outputs": [],
   "source": [
    "## If parent in the group, then we render its child too. \n",
    "BcellM7_parents = []\n",
    "BcellM7_children = []\n",
    "BcellM7_links = []\n",
    "\n",
    "for parent, child in links:\n",
    "    if parent in BcellM7:\n",
    "        BcellM7_parents.append(parent)\n",
    "        BcellM7_children.append(child)\n",
    "        BcellM7_links.append([parent, child])\n",
    "\n",
    "BcellM7_parents = np.unique(BcellM7_parents)\n",
    "BcellM7_children = np.unique(BcellM7_children)"
   ]
  },
  {
   "cell_type": "code",
   "execution_count": 89,
   "metadata": {},
   "outputs": [],
   "source": [
    "BcellM7_KD = []\n",
    "\n",
    "for kd, gene in zip(KDs[\"BcellM7_KD\"], KDs[\"geneName_KD\"]):\n",
    "    if kd == 1:\n",
    "        BcellM7_KD.append(gene)"
   ]
  },
  {
   "cell_type": "code",
   "execution_count": 92,
   "metadata": {},
   "outputs": [],
   "source": [
    "BcellM7_parents_and_groups = []\n",
    "BcellM7_children_and_groups = []\n",
    "\n",
    "for i in BcellM7_parents:\n",
    "    if i in BcellM7_KD:\n",
    "        BcellM7_parents_and_groups.append([i, \"KD\"])\n",
    "    else:\n",
    "        BcellM7_parents_and_groups.append([i, \"none\"])\n",
    "        \n",
    "for i in BcellM7_children:\n",
    "    if i in BcellM7_KD:\n",
    "        BcellM7_children_and_groups.append([i, \"KD\"])\n",
    "    else:\n",
    "        BcellM7_children_and_groups.append([i, \"none\"])"
   ]
  },
  {
   "cell_type": "code",
   "execution_count": 94,
   "metadata": {
    "scrolled": true
   },
   "outputs": [],
   "source": [
    "BcellM7_final = {\"nodes\": [], \"links\": []}\n",
    "\n",
    "for parent, group in BcellM7_parents_and_groups:\n",
    "    BcellM7_final[\"nodes\"] += [{\"id\": parent, \"group\": group}]\n",
    "\n",
    "for child, group in BcellM7_children_and_groups:\n",
    "    BcellM7_final[\"nodes\"] += [{\"id\": child, \"group\": group}]\n",
    "\n",
    "for parent, child in links:\n",
    "    BcellM7_final[\"links\"] += [{\"source\": parent, \"target\": child, \"value\": 1}]"
   ]
  },
  {
   "cell_type": "code",
   "execution_count": 96,
   "metadata": {},
   "outputs": [],
   "source": [
    "with open('BcellM7_final.json', 'w') as fp:\n",
    "    json.dump(BcellM7_final, fp)"
   ]
  },
  {
   "cell_type": "code",
   "execution_count": null,
   "metadata": {},
   "outputs": [],
   "source": []
  }
 ],
 "metadata": {
  "kernelspec": {
   "display_name": "Python 3",
   "language": "python",
   "name": "python3"
  },
  "language_info": {
   "codemirror_mode": {
    "name": "ipython",
    "version": 3
   },
   "file_extension": ".py",
   "mimetype": "text/x-python",
   "name": "python",
   "nbconvert_exporter": "python",
   "pygments_lexer": "ipython3",
   "version": "3.8.3"
  }
 },
 "nbformat": 4,
 "nbformat_minor": 4
}
