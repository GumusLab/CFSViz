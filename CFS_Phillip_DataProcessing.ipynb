{
 "cells": [
  {
   "cell_type": "code",
   "execution_count": 237,
   "metadata": {},
   "outputs": [],
   "source": [
    "import csv\n",
    "import numpy as np\n",
    "import pandas as pd\n",
    "import json"
   ]
  },
  {
   "cell_type": "code",
   "execution_count": 238,
   "metadata": {},
   "outputs": [],
   "source": [
    "KDs = pd.read_csv(\"Data/CFSKDsForVisualization.csv\")\n",
    "Modules = pd.read_csv(\"Data/CFSModulesForVisualization.csv\")\n",
    "Network = pd.read_csv(\"Data/CFSNetworkForVisualization.csv\")"
   ]
  },
  {
   "cell_type": "code",
   "execution_count": 239,
   "metadata": {},
   "outputs": [],
   "source": [
    "Network = Network.drop([17485, 17486, 17487, 17488, 17489, 17490, 17491])"
   ]
  },
  {
   "cell_type": "markdown",
   "metadata": {},
   "source": [
    "### Modules of interest\n",
    "\n",
    "1) NKM4\n",
    "\n",
    "2) BcellM7\n",
    "\n",
    "3) MonoM6\n",
    "\n",
    "4) NKM13\n",
    "\n",
    "5) NKM9"
   ]
  },
  {
   "cell_type": "code",
   "execution_count": 240,
   "metadata": {},
   "outputs": [],
   "source": [
    "NKM4 = []\n",
    "BcellM7 = []\n",
    "MonoM6 = []\n",
    "NKM13 = []\n",
    "NKM9 = []\n",
    "\n",
    "for i in range(len(Modules)):\n",
    "    if Modules[\"Module\"][i] == \"NKM4\":\n",
    "        NKM4.append(Modules[\"GeneName\"][i])\n",
    "    if Modules[\"Module\"][i] == \"BcellM7\":\n",
    "        BcellM7.append(Modules[\"GeneName\"][i])\n",
    "    if Modules[\"Module\"][i] == \"MonoM6\":\n",
    "        MonoM6.append(Modules[\"GeneName\"][i])\n",
    "    if Modules[\"Module\"][i] == \"NKM13\":\n",
    "        NKM13.append(Modules[\"GeneName\"][i])\n",
    "    if Modules[\"Module\"][i] == \"NKM9\":\n",
    "        NKM9.append(Modules[\"GeneName\"][i])  "
   ]
  },
  {
   "cell_type": "code",
   "execution_count": 241,
   "metadata": {},
   "outputs": [
    {
     "name": "stdout",
     "output_type": "stream",
     "text": [
      "92 777 611 202 304\n"
     ]
    }
   ],
   "source": [
    "print(len(NKM4), len(BcellM7), len(MonoM6), len(NKM13), len(NKM9))"
   ]
  },
  {
   "cell_type": "markdown",
   "metadata": {},
   "source": [
    "## Nodes creation"
   ]
  },
  {
   "cell_type": "code",
   "execution_count": 242,
   "metadata": {},
   "outputs": [],
   "source": [
    "parents = np.unique(list(Network[\"ParentGeneName\"]))\n",
    "children = np.unique(list(Network[\"ChildGeneName\"]))\n",
    "\n",
    "nodes = list(parents) + list(children)\n",
    "nodes = np.unique(nodes)"
   ]
  },
  {
   "cell_type": "code",
   "execution_count": 243,
   "metadata": {},
   "outputs": [],
   "source": [
    "nodes_and_groups = {}\n",
    "\n",
    "for i in nodes:\n",
    "    if i in NKM4:\n",
    "        nodes_and_groups[i] = \"NKM4\"\n",
    "    elif i in BcellM7:\n",
    "        nodes_and_groups[i] = \"BcellM7\"\n",
    "    elif i in MonoM6:\n",
    "        nodes_and_groups[i] = \"MonoM6\"\n",
    "    elif i in NKM13:\n",
    "        nodes_and_groups[i] = \"NKM13\"\n",
    "    elif i in NKM9:\n",
    "        nodes_and_groups[i] = \"NKM9\"\n",
    "    else:\n",
    "        nodes_and_groups[i] = \"none\""
   ]
  },
  {
   "cell_type": "markdown",
   "metadata": {},
   "source": [
    "## Links creation"
   ]
  },
  {
   "cell_type": "code",
   "execution_count": 244,
   "metadata": {},
   "outputs": [],
   "source": [
    "links = []\n",
    "for parent, child in zip(Network[\"ParentGeneName\"], Network[\"ChildGeneName\"]):\n",
    "    links.append([parent, child])"
   ]
  },
  {
   "cell_type": "code",
   "execution_count": 245,
   "metadata": {},
   "outputs": [],
   "source": [
    "final = {\"nodes\": [], \"links\": []}\n",
    "\n",
    "for node in nodes_and_groups:\n",
    "    final[\"nodes\"] += [{\"id\": node, \"group\": nodes_and_groups[node]}]\n",
    "\n",
    "for parent, child in links:\n",
    "    final[\"links\"] += [{\"source\": parent, \"target\": child, \"value\": 1}]"
   ]
  },
  {
   "cell_type": "code",
   "execution_count": 246,
   "metadata": {},
   "outputs": [],
   "source": [
    "with open('complete_data.json', 'w') as fp:\n",
    "    json.dump(final, fp)"
   ]
  },
  {
   "cell_type": "markdown",
   "metadata": {},
   "source": [
    "________"
   ]
  },
  {
   "cell_type": "markdown",
   "metadata": {},
   "source": [
    "# Modules"
   ]
  },
  {
   "cell_type": "markdown",
   "metadata": {},
   "source": [
    "### BcellM7"
   ]
  },
  {
   "cell_type": "code",
   "execution_count": 247,
   "metadata": {},
   "outputs": [
    {
     "data": {
      "text/plain": [
       "(904, 13305)"
      ]
     },
     "execution_count": 247,
     "metadata": {},
     "output_type": "execute_result"
    }
   ],
   "source": [
    "BcellM7_KD = {}\n",
    "for kd, gene in zip(KDs[\"BcellM7_KD\"], KDs[\"geneName_KD\"]):\n",
    "    BcellM7_KD[gene] = kd\n",
    "\n",
    "len(BcellM7_KD), len(nodes)"
   ]
  },
  {
   "cell_type": "code",
   "execution_count": 248,
   "metadata": {},
   "outputs": [
    {
     "data": {
      "text/plain": [
       "(13307, 13305)"
      ]
     },
     "execution_count": 248,
     "metadata": {},
     "output_type": "execute_result"
    }
   ],
   "source": [
    "## THERE IS NOT INFORMATION ABOUT KD FOR ALL NODES. I SET THEM TO 0 IF NON EXISTENT IN THE KD DOCUMENT\n",
    "\n",
    "for n in nodes:\n",
    "    if n not in BcellM7_KD:\n",
    "        BcellM7_KD[n] = 0\n",
    "\n",
    "len(BcellM7_KD), len(nodes)"
   ]
  },
  {
   "cell_type": "code",
   "execution_count": 249,
   "metadata": {},
   "outputs": [],
   "source": [
    "links_BcellM7 = []\n",
    "nodes_BcellM7 = []\n",
    "\n",
    "for parent, child in links:\n",
    "    if nodes_and_groups[parent] == \"BcellM7\" or nodes_and_groups[child] == \"BcellM7\":\n",
    "        links_BcellM7.append([parent, child])\n",
    "        nodes_BcellM7.append([parent, nodes_and_groups[parent], BcellM7_KD[parent]])\n",
    "        nodes_BcellM7.append([child, nodes_and_groups[child], BcellM7_KD[child]]) \n",
    "        \n",
    "nodes_BcellM7 = set(map(tuple, nodes_BcellM7))"
   ]
  },
  {
   "cell_type": "code",
   "execution_count": 250,
   "metadata": {
    "scrolled": true
   },
   "outputs": [],
   "source": [
    "BcellM7_final = {\"nodes\": [], \"links\": []}\n",
    "\n",
    "for node, group, kd in nodes_BcellM7:\n",
    "    BcellM7_final[\"nodes\"] += [{\"id\": node, \"group\": group, \"kd\": kd}]\n",
    "\n",
    "for parent, child in links_BcellM7:\n",
    "    BcellM7_final[\"links\"] += [{\"source\": parent, \"target\": child, \"value\": 1}]"
   ]
  },
  {
   "cell_type": "code",
   "execution_count": 251,
   "metadata": {},
   "outputs": [],
   "source": [
    "with open('BcellM7_final.json', 'w') as fp:\n",
    "    json.dump(BcellM7_final, fp)"
   ]
  },
  {
   "cell_type": "markdown",
   "metadata": {},
   "source": [
    "### MonoM6\n"
   ]
  },
  {
   "cell_type": "code",
   "execution_count": 187,
   "metadata": {},
   "outputs": [
    {
     "data": {
      "text/plain": [
       "(904, 13306)"
      ]
     },
     "execution_count": 187,
     "metadata": {},
     "output_type": "execute_result"
    }
   ],
   "source": [
    "MonoM6_KD = {}\n",
    "for kd, gene in zip(KDs[\"MonoM6_KD\"], KDs[\"geneName_KD\"]):\n",
    "    MonoM6_KD[gene] = kd\n",
    "\n",
    "len(MonoM6_KD), len(nodes)"
   ]
  },
  {
   "cell_type": "code",
   "execution_count": 188,
   "metadata": {},
   "outputs": [
    {
     "data": {
      "text/plain": [
       "(13308, 13306)"
      ]
     },
     "execution_count": 188,
     "metadata": {},
     "output_type": "execute_result"
    }
   ],
   "source": [
    "## THERE IS NOT INFORMATION ABOUT KD FOR ALL NODES. I SET THEM TO 0 IF NON EXISTENT IN THE KD DOCUMENT\n",
    "\n",
    "for n in nodes:\n",
    "    if n not in MonoM6_KD:\n",
    "        MonoM6_KD[n] = 0\n",
    "\n",
    "len(MonoM6_KD), len(nodes)"
   ]
  },
  {
   "cell_type": "code",
   "execution_count": 189,
   "metadata": {},
   "outputs": [],
   "source": [
    "links_MonoM6 = []\n",
    "nodes_MonoM6 = []\n",
    "\n",
    "for parent, child in links:\n",
    "    if nodes_and_groups[parent] == \"MonoM6\" or nodes_and_groups[child] == \"MonoM6\":\n",
    "        links_MonoM6.append([parent, child])\n",
    "        nodes_MonoM6.append([parent, nodes_and_groups[parent], MonoM6_KD[parent]])\n",
    "        nodes_MonoM6.append([child, nodes_and_groups[child], MonoM6_KD[child]])    \n",
    "\n",
    "nodes_MonoM6 = set(map(tuple, nodes_MonoM6))"
   ]
  },
  {
   "cell_type": "code",
   "execution_count": 190,
   "metadata": {},
   "outputs": [],
   "source": [
    "MonoM6_final = {\"nodes\": [], \"links\": []}\n",
    "\n",
    "for node, group, kd in nodes_MonoM6:\n",
    "    MonoM6_final[\"nodes\"] += [{\"id\": node, \"group\": group, \"kd\": kd}]\n",
    "\n",
    "for parent, child in links_MonoM6:\n",
    "    MonoM6_final[\"links\"] += [{\"source\": parent, \"target\": child, \"value\": 1}]"
   ]
  },
  {
   "cell_type": "code",
   "execution_count": 191,
   "metadata": {},
   "outputs": [],
   "source": [
    "with open('MonoM6_final.json', 'w') as fp:\n",
    "    json.dump(MonoM6_final, fp)"
   ]
  },
  {
   "cell_type": "markdown",
   "metadata": {},
   "source": [
    "### NKM13"
   ]
  },
  {
   "cell_type": "code",
   "execution_count": 194,
   "metadata": {},
   "outputs": [
    {
     "data": {
      "text/plain": [
       "(904, 13306)"
      ]
     },
     "execution_count": 194,
     "metadata": {},
     "output_type": "execute_result"
    }
   ],
   "source": [
    "NKM13_KD = {}\n",
    "for kd, gene in zip(KDs[\"NKM13_KD\"], KDs[\"geneName_KD\"]):\n",
    "    NKM13_KD[gene] = kd\n",
    "\n",
    "len(NKM13_KD), len(nodes)"
   ]
  },
  {
   "cell_type": "code",
   "execution_count": 195,
   "metadata": {},
   "outputs": [
    {
     "data": {
      "text/plain": [
       "(13308, 13306)"
      ]
     },
     "execution_count": 195,
     "metadata": {},
     "output_type": "execute_result"
    }
   ],
   "source": [
    "## THERE IS NOT INFORMATION ABOUT KD FOR ALL NODES. I SET THEM TO 0 IF NON EXISTENT IN THE KD DOCUMENT\n",
    "\n",
    "for n in nodes:\n",
    "    if n not in NKM13_KD:\n",
    "        NKM13_KD[n] = 0\n",
    "\n",
    "len(NKM13_KD), len(nodes)"
   ]
  },
  {
   "cell_type": "code",
   "execution_count": 196,
   "metadata": {},
   "outputs": [],
   "source": [
    "links_NKM13 = []\n",
    "nodes_NKM13 = []\n",
    "\n",
    "for parent, child in links:\n",
    "    if nodes_and_groups[parent] == \"NKM13\" or nodes_and_groups[child] == \"NKM13\":\n",
    "        links_NKM13.append([parent, child])\n",
    "        nodes_NKM13.append([parent, nodes_and_groups[parent], NKM13_KD[parent]])\n",
    "        nodes_NKM13.append([child, nodes_and_groups[child], NKM13_KD[child]]) \n",
    "\n",
    "nodes_NKM13 = set(map(tuple, nodes_NKM13))"
   ]
  },
  {
   "cell_type": "code",
   "execution_count": 197,
   "metadata": {},
   "outputs": [],
   "source": [
    "NKM13_final = {\"nodes\": [], \"links\": []}\n",
    "\n",
    "for node, group, kd in nodes_NKM13:\n",
    "    NKM13_final[\"nodes\"] += [{\"id\": node, \"group\": group, \"kd\": kd}]\n",
    "\n",
    "for parent, child in links_NKM13:\n",
    "    NKM13_final[\"links\"] += [{\"source\": parent, \"target\": child, \"value\": 1}]"
   ]
  },
  {
   "cell_type": "code",
   "execution_count": 198,
   "metadata": {},
   "outputs": [],
   "source": [
    "with open('NKM13_final.json', 'w') as fp:\n",
    "    json.dump(NKM13_final, fp)"
   ]
  },
  {
   "cell_type": "markdown",
   "metadata": {},
   "source": [
    "### NKM9"
   ]
  },
  {
   "cell_type": "code",
   "execution_count": 201,
   "metadata": {},
   "outputs": [
    {
     "data": {
      "text/plain": [
       "(904, 13306)"
      ]
     },
     "execution_count": 201,
     "metadata": {},
     "output_type": "execute_result"
    }
   ],
   "source": [
    "NKM9_KD = {}\n",
    "for kd, gene in zip(KDs[\"NKM9_KD\"], KDs[\"geneName_KD\"]):\n",
    "    NKM9_KD[gene] = kd\n",
    "\n",
    "len(NKM9_KD), len(nodes)"
   ]
  },
  {
   "cell_type": "code",
   "execution_count": 202,
   "metadata": {},
   "outputs": [
    {
     "data": {
      "text/plain": [
       "(13308, 13306)"
      ]
     },
     "execution_count": 202,
     "metadata": {},
     "output_type": "execute_result"
    }
   ],
   "source": [
    "## THERE IS NOT INFORMATION ABOUT KD FOR ALL NODES. I SET THEM TO 0 IF NON EXISTENT IN THE KD DOCUMENT\n",
    "\n",
    "for n in nodes:\n",
    "    if n not in NKM9_KD:\n",
    "        NKM9_KD[n] = 0\n",
    "\n",
    "len(NKM9_KD), len(nodes)"
   ]
  },
  {
   "cell_type": "code",
   "execution_count": 203,
   "metadata": {},
   "outputs": [],
   "source": [
    "links_NKM9 = []\n",
    "nodes_NKM9 = []\n",
    "\n",
    "for parent, child in links:\n",
    "    if nodes_and_groups[parent] == \"NKM9\" or nodes_and_groups[child] == \"NKM9\":\n",
    "        links_NKM9.append([parent, child])\n",
    "        nodes_NKM9.append([parent, nodes_and_groups[parent], NKM9_KD[parent]])\n",
    "        nodes_NKM9.append([child, nodes_and_groups[child], NKM9_KD[child]])  \n",
    "\n",
    "nodes_NKM9 = set(map(tuple, nodes_NKM9))"
   ]
  },
  {
   "cell_type": "code",
   "execution_count": 204,
   "metadata": {},
   "outputs": [],
   "source": [
    "NKM9_final = {\"nodes\": [], \"links\": []}\n",
    "\n",
    "for node, group, kd in nodes_NKM9:\n",
    "    NKM9_final[\"nodes\"] += [{\"id\": node, \"group\": group, \"kd\": kd}]\n",
    "\n",
    "for parent, child in links_NKM9:\n",
    "    NKM9_final[\"links\"] += [{\"source\": parent, \"target\": child, \"value\": 1}]"
   ]
  },
  {
   "cell_type": "code",
   "execution_count": 205,
   "metadata": {},
   "outputs": [],
   "source": [
    "with open('NKM9_final.json', 'w') as fp:\n",
    "    json.dump(NKM9_final, fp)"
   ]
  },
  {
   "cell_type": "markdown",
   "metadata": {},
   "source": [
    "### NKM4"
   ]
  },
  {
   "cell_type": "code",
   "execution_count": 210,
   "metadata": {},
   "outputs": [],
   "source": [
    "NKM4_KD = {} ## THIS SPECIFIC MODULE DONT HAVE KD.\n",
    "#for kd, gene in zip(KDs[\"BcellM7_KD\"], KDs[\"geneName_KD\"]):\n",
    "#    BcellM7_KD[gene] = kd\n",
    "\n",
    "#len(BcellM7_KD), len(nodes)"
   ]
  },
  {
   "cell_type": "code",
   "execution_count": 211,
   "metadata": {},
   "outputs": [
    {
     "data": {
      "text/plain": [
       "(13306, 13306)"
      ]
     },
     "execution_count": 211,
     "metadata": {},
     "output_type": "execute_result"
    }
   ],
   "source": [
    "## THERE IS NOT INFORMATION ABOUT KD FOR ALL NODES. I SET THEM TO 0 IF NON EXISTENT IN THE KD DOCUMENT\n",
    "\n",
    "for n in nodes:\n",
    "    if n not in NKM4_KD:\n",
    "        NKM4_KD[n] = 0\n",
    "\n",
    "len(NKM4_KD), len(nodes)"
   ]
  },
  {
   "cell_type": "code",
   "execution_count": 212,
   "metadata": {},
   "outputs": [],
   "source": [
    "links_NKM4 = []\n",
    "nodes_NKM4 = []\n",
    "\n",
    "for parent, child in links:\n",
    "    if nodes_and_groups[parent] == \"NKM4\" or nodes_and_groups[child] == \"NKM4\":\n",
    "        links_NKM4.append([parent, child])\n",
    "        nodes_NKM4.append([parent, nodes_and_groups[parent], NKM4_KD[parent]])\n",
    "        nodes_NKM4.append([child, nodes_and_groups[child], NKM4_KD[child]]) \n",
    "        \n",
    "nodes_NKM4 = set(map(tuple, nodes_NKM4))"
   ]
  },
  {
   "cell_type": "code",
   "execution_count": 213,
   "metadata": {
    "scrolled": true
   },
   "outputs": [],
   "source": [
    "NKM4_final = {\"nodes\": [], \"links\": []}\n",
    "\n",
    "for node, group, kd in nodes_NKM4:\n",
    "    NKM4_final[\"nodes\"] += [{\"id\": node, \"group\": group, \"kd\": kd}]\n",
    "\n",
    "for parent, child in links_NKM4:\n",
    "    NKM4_final[\"links\"] += [{\"source\": parent, \"target\": child, \"value\": 1}]"
   ]
  },
  {
   "cell_type": "code",
   "execution_count": 214,
   "metadata": {},
   "outputs": [],
   "source": [
    "with open('NKM4_final.json', 'w') as fp:\n",
    "    json.dump(NKM4_final, fp)"
   ]
  },
  {
   "cell_type": "code",
   "execution_count": null,
   "metadata": {},
   "outputs": [],
   "source": []
  }
 ],
 "metadata": {
  "kernelspec": {
   "display_name": "Python 3",
   "language": "python",
   "name": "python3"
  },
  "language_info": {
   "codemirror_mode": {
    "name": "ipython",
    "version": 3
   },
   "file_extension": ".py",
   "mimetype": "text/x-python",
   "name": "python",
   "nbconvert_exporter": "python",
   "pygments_lexer": "ipython3",
   "version": "3.8.3"
  }
 },
 "nbformat": 4,
 "nbformat_minor": 4
}
